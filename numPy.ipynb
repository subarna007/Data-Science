{
 "cells": [
  {
   "cell_type": "code",
   "execution_count": null,
   "id": "a2ff689c",
   "metadata": {},
   "outputs": [],
   "source": [
    "# NUMPY =   Numerical Python, is an open source library available in Python,\n",
    "#           that aids in mathematical,scientific, engineering and data science programming,\n",
    "#           memory efficient"
   ]
  },
  {
   "cell_type": "code",
   "execution_count": 1,
   "id": "b06627ea",
   "metadata": {},
   "outputs": [
    {
     "data": {
      "text/plain": [
       "'1.24.3'"
      ]
     },
     "execution_count": 1,
     "metadata": {},
     "output_type": "execute_result"
    }
   ],
   "source": [
    "import numpy as np\n",
    "np.__version__"
   ]
  },
  {
   "cell_type": "code",
   "execution_count": null,
   "id": "35c07b88",
   "metadata": {},
   "outputs": [],
   "source": [
    "# pip install numpy --upgrade"
   ]
  },
  {
   "cell_type": "code",
   "execution_count": 2,
   "id": "48c39432",
   "metadata": {},
   "outputs": [
    {
     "data": {
      "text/plain": [
       "array([1, 2, 3, 4, 5, 6, 7, 8, 9, 0])"
      ]
     },
     "execution_count": 2,
     "metadata": {},
     "output_type": "execute_result"
    }
   ],
   "source": [
    "np_array = np.array([1,2,3,4,5,6,7,8,9,0])\n",
    "np_array"
   ]
  },
  {
   "cell_type": "code",
   "execution_count": 3,
   "id": "eb662322",
   "metadata": {},
   "outputs": [
    {
     "data": {
      "text/plain": [
       "array([1, 2, 3, 4, 5, 6, 7, 8, 9, 0])"
      ]
     },
     "execution_count": 3,
     "metadata": {},
     "output_type": "execute_result"
    }
   ],
   "source": [
    "x = ([1, 2, 3, 4, 5, 6, 7, 8, 9, 0])\n",
    "np_array = np.array(x)\n",
    "np_array"
   ]
  },
  {
   "cell_type": "code",
   "execution_count": 4,
   "id": "0d9124ab",
   "metadata": {},
   "outputs": [
    {
     "name": "stdout",
     "output_type": "stream",
     "text": [
      "[ 6  7  8  9 10 11 12 13 14  5]\n"
     ]
    }
   ],
   "source": [
    " # + - * / ** // %\n",
    "    \n",
    "x = [1, 2, 3, 4, 5, 6, 7, 8, 9, 0]\n",
    "np_array = np.array(x)\n",
    "print(np_array + 5)"
   ]
  },
  {
   "cell_type": "code",
   "execution_count": 5,
   "id": "997ec882",
   "metadata": {},
   "outputs": [
    {
     "name": "stdout",
     "output_type": "stream",
     "text": [
      "[-4 -3 -2 -1  0  1  2  3  4 -5]\n",
      "[ 5 10 15 20 25 30 35 40 45  0]\n",
      "[0.2 0.4 0.6 0.8 1.  1.2 1.4 1.6 1.8 0. ]\n",
      "[0 0 0 0 1 1 1 1 1 0]\n",
      "[    1    32   243  1024  3125  7776 16807 32768 59049     0]\n",
      "[1 2 3 4 0 1 2 3 4 0]\n"
     ]
    }
   ],
   "source": [
    "print(np_array - 5)\n",
    "print(np_array * 5)\n",
    "print(np_array / 5)\n",
    "print(np_array // 5)\n",
    "print(np_array ** 5)\n",
    "print(np_array % 5)"
   ]
  },
  {
   "cell_type": "code",
   "execution_count": 7,
   "id": "322984c4",
   "metadata": {},
   "outputs": [
    {
     "name": "stdout",
     "output_type": "stream",
     "text": [
      "[ 4  9 12  7  9 12 13]\n"
     ]
    }
   ],
   "source": [
    "a = np.array([1,2,3,4,5,6,6])\n",
    "b = np.array([3,7,9,3,4,6,7])\n",
    "c = a + b\n",
    "print(c)"
   ]
  },
  {
   "cell_type": "code",
   "execution_count": 10,
   "id": "c981e4df",
   "metadata": {},
   "outputs": [
    {
     "name": "stdout",
     "output_type": "stream",
     "text": [
      "(7,)\n"
     ]
    }
   ],
   "source": [
    "#shape of array\n",
    "a = np.array([1,2,3,4,5,6,6])\n",
    "print(a.shape)"
   ]
  },
  {
   "cell_type": "code",
   "execution_count": 19,
   "id": "9cf9ca96",
   "metadata": {},
   "outputs": [
    {
     "name": "stdout",
     "output_type": "stream",
     "text": [
      "(3, 3)\n",
      "2\n"
     ]
    }
   ],
   "source": [
    "a = np.array([[1,2,3],\n",
    "              [4,5,6],\n",
    "              [7,8,9]])\n",
    "print(a.shape)\n",
    "print(len(a.shape))"
   ]
  },
  {
   "cell_type": "code",
   "execution_count": 23,
   "id": "fb179d68",
   "metadata": {},
   "outputs": [
    {
     "ename": "ValueError",
     "evalue": "setting an array element with a sequence. The requested array has an inhomogeneous shape after 1 dimensions. The detected shape was (3,) + inhomogeneous part.",
     "output_type": "error",
     "traceback": [
      "\u001b[1;31m---------------------------------------------------------------------------\u001b[0m",
      "\u001b[1;31mValueError\u001b[0m                                Traceback (most recent call last)",
      "Cell \u001b[1;32mIn[23], line 1\u001b[0m\n\u001b[1;32m----> 1\u001b[0m a \u001b[38;5;241m=\u001b[39m np\u001b[38;5;241m.\u001b[39marray([[\u001b[38;5;241m4\u001b[39m,\u001b[38;5;241m5\u001b[39m,\u001b[38;5;241m6\u001b[39m,\u001b[38;5;241m7\u001b[39m],\n\u001b[0;32m      2\u001b[0m               [\u001b[38;5;241m4\u001b[39m,\u001b[38;5;241m5\u001b[39m,\u001b[38;5;241m6\u001b[39m],\n\u001b[0;32m      3\u001b[0m               [\u001b[38;5;241m4\u001b[39m,\u001b[38;5;241m5\u001b[39m,\u001b[38;5;241m6\u001b[39m,\u001b[38;5;241m9\u001b[39m,\u001b[38;5;241m9\u001b[39m]])\n\u001b[0;32m      4\u001b[0m \u001b[38;5;28mprint\u001b[39m(a\u001b[38;5;241m.\u001b[39mshape)\n\u001b[0;32m      5\u001b[0m \u001b[38;5;28mprint\u001b[39m(\u001b[38;5;28mlen\u001b[39m(a\u001b[38;5;241m.\u001b[39mshape))\n",
      "\u001b[1;31mValueError\u001b[0m: setting an array element with a sequence. The requested array has an inhomogeneous shape after 1 dimensions. The detected shape was (3,) + inhomogeneous part."
     ]
    }
   ],
   "source": [
    "a = np.array([[4,5,6,7],\n",
    "              [4,5,6],\n",
    "              [4,5,6,9,9]])\n",
    "print(a.shape)\n",
    "print(len(a.shape))"
   ]
  },
  {
   "cell_type": "code",
   "execution_count": 24,
   "id": "4894d648",
   "metadata": {},
   "outputs": [
    {
     "name": "stdout",
     "output_type": "stream",
     "text": [
      "(3, 3, 1)\n",
      "3\n"
     ]
    }
   ],
   "source": [
    "a = np.array([[[1],[2],[3]],\n",
    "              [[4],[5],[6]],\n",
    "              [[7],[8],[9]]])\n",
    "print(a.shape)\n",
    "print(len(a.shape))"
   ]
  },
  {
   "cell_type": "code",
   "execution_count": 25,
   "id": "fefd8d0b",
   "metadata": {},
   "outputs": [
    {
     "name": "stdout",
     "output_type": "stream",
     "text": [
      "(2, 3, 2)\n",
      "3\n"
     ]
    }
   ],
   "source": [
    "a = np.array([[[1,1],[2,4],[3,6]],\n",
    "              [[4,4],[5,8],[6,8]]])\n",
    "print(a.shape)\n",
    "print(len(a.shape))"
   ]
  },
  {
   "cell_type": "code",
   "execution_count": 27,
   "id": "6c2ab9c3",
   "metadata": {},
   "outputs": [
    {
     "data": {
      "text/plain": [
       "array([[1., 1., 1.],\n",
       "       [1., 1., 1.],\n",
       "       [1., 1., 1.]])"
      ]
     },
     "execution_count": 27,
     "metadata": {},
     "output_type": "execute_result"
    }
   ],
   "source": [
    "np.ones((3,3))"
   ]
  },
  {
   "cell_type": "code",
   "execution_count": 29,
   "id": "7af3504e",
   "metadata": {},
   "outputs": [
    {
     "data": {
      "text/plain": [
       "array([[0., 0., 0.],\n",
       "       [0., 0., 0.],\n",
       "       [0., 0., 0.]])"
      ]
     },
     "execution_count": 29,
     "metadata": {},
     "output_type": "execute_result"
    }
   ],
   "source": [
    "np.zeros((3,3))"
   ]
  },
  {
   "cell_type": "code",
   "execution_count": 32,
   "id": "cc229fae",
   "metadata": {},
   "outputs": [
    {
     "data": {
      "text/plain": [
       "array([[[1., 1.],\n",
       "        [1., 1.]],\n",
       "\n",
       "       [[1., 1.],\n",
       "        [1., 1.]]])"
      ]
     },
     "execution_count": 32,
     "metadata": {},
     "output_type": "execute_result"
    }
   ],
   "source": [
    "np.ones((2,2,2))"
   ]
  },
  {
   "cell_type": "code",
   "execution_count": 33,
   "id": "6881c943",
   "metadata": {},
   "outputs": [
    {
     "data": {
      "text/plain": [
       "array([[5., 5., 5.],\n",
       "       [5., 5., 5.],\n",
       "       [5., 5., 5.]])"
      ]
     },
     "execution_count": 33,
     "metadata": {},
     "output_type": "execute_result"
    }
   ],
   "source": [
    "np.zeros((3,3))+5"
   ]
  },
  {
   "cell_type": "code",
   "execution_count": 36,
   "id": "e1cc6ae4",
   "metadata": {},
   "outputs": [
    {
     "data": {
      "text/plain": [
       "array([[-3., -3.],\n",
       "       [-3., -3.]])"
      ]
     },
     "execution_count": 36,
     "metadata": {},
     "output_type": "execute_result"
    }
   ],
   "source": [
    "np.ones((2,2))-4"
   ]
  },
  {
   "cell_type": "code",
   "execution_count": 37,
   "id": "22733c1e",
   "metadata": {},
   "outputs": [
    {
     "data": {
      "text/plain": [
       "array([[4., 4.],\n",
       "       [4., 4.]])"
      ]
     },
     "execution_count": 37,
     "metadata": {},
     "output_type": "execute_result"
    }
   ],
   "source": [
    "np.ones((2,2))*4"
   ]
  },
  {
   "cell_type": "code",
   "execution_count": 41,
   "id": "1bb8aabf",
   "metadata": {},
   "outputs": [
    {
     "data": {
      "text/plain": [
       "array([[0.25, 0.25],\n",
       "       [0.25, 0.25]])"
      ]
     },
     "execution_count": 41,
     "metadata": {},
     "output_type": "execute_result"
    }
   ],
   "source": [
    "np.ones((2,2))/4"
   ]
  },
  {
   "cell_type": "code",
   "execution_count": 38,
   "id": "b16cec97",
   "metadata": {},
   "outputs": [
    {
     "data": {
      "text/plain": [
       "array([[1., 0., 0.],\n",
       "       [0., 1., 0.],\n",
       "       [0., 0., 1.]])"
      ]
     },
     "execution_count": 38,
     "metadata": {},
     "output_type": "execute_result"
    }
   ],
   "source": [
    "np.eye(3,3)"
   ]
  },
  {
   "cell_type": "code",
   "execution_count": 49,
   "id": "a2c88325",
   "metadata": {},
   "outputs": [
    {
     "name": "stdout",
     "output_type": "stream",
     "text": [
      "(2, 3)\n",
      "[[1 2]\n",
      " [4 3]\n",
      " [6 8]]\n",
      "[[1 2 4 3 6 8]]\n",
      "[[1]\n",
      " [2]\n",
      " [4]\n",
      " [3]\n",
      " [6]\n",
      " [8]]\n"
     ]
    }
   ],
   "source": [
    "#reshape\n",
    "a = np.array([[1,2,4],\n",
    "            [3,6,8]])\n",
    "\n",
    "# 2*3 = 6\n",
    "# 3*2 = 6\n",
    "# 1*6 = 6\n",
    "# 6*1 = 6\n",
    "\n",
    "\n",
    "print(a.shape)\n",
    "print(a.reshape(3,2))\n",
    "print(a.reshape(1,6))\n",
    "print(a.reshape(6,1))"
   ]
  },
  {
   "cell_type": "code",
   "execution_count": 51,
   "id": "593911f1",
   "metadata": {},
   "outputs": [
    {
     "name": "stdout",
     "output_type": "stream",
     "text": [
      "[1 2 3 4 5 6]\n"
     ]
    }
   ],
   "source": [
    "#concat numpy array \n",
    "a = np.array([1,2,3])\n",
    "b = np.array([4,5,6])\n",
    "\n",
    "# c = a+b\n",
    "\n",
    "print(np.hstack((a,b)))"
   ]
  },
  {
   "cell_type": "code",
   "execution_count": 52,
   "id": "744eaa9d",
   "metadata": {},
   "outputs": [
    {
     "name": "stdout",
     "output_type": "stream",
     "text": [
      "[[1 2 3]\n",
      " [4 5 6]]\n"
     ]
    }
   ],
   "source": [
    "#concat numpy array \n",
    "a = np.array([1,2,3])\n",
    "b = np.array([4,5,6])\n",
    "\n",
    "# c = a+b\n",
    "\n",
    "print(np.vstack((a,b)))"
   ]
  },
  {
   "cell_type": "code",
   "execution_count": 1,
   "id": "c0587217",
   "metadata": {},
   "outputs": [
    {
     "data": {
      "text/plain": [
       "array([1, 2, 4, 3, 6, 8])"
      ]
     },
     "execution_count": 1,
     "metadata": {},
     "output_type": "execute_result"
    }
   ],
   "source": [
    "import numpy as np\n",
    "a = np.array([[1,2,4],\n",
    "            [3,6,8]])\n",
    "a.flatten()"
   ]
  },
  {
   "cell_type": "code",
   "execution_count": 2,
   "id": "4df40e95",
   "metadata": {},
   "outputs": [
    {
     "name": "stdout",
     "output_type": "stream",
     "text": [
      "[[0.58401574 0.28481472]\n",
      " [0.27862236 0.96723245]]\n"
     ]
    }
   ],
   "source": [
    "print(np.random.rand(2,2))"
   ]
  },
  {
   "cell_type": "code",
   "execution_count": 3,
   "id": "aa63d77f",
   "metadata": {
    "scrolled": true
   },
   "outputs": [
    {
     "name": "stdout",
     "output_type": "stream",
     "text": [
      "[[[0.3686505  0.2357646 ]\n",
      "  [0.03254988 0.85931491]]\n",
      "\n",
      " [[0.88167168 0.75641368]\n",
      "  [0.41648461 0.62540655]]\n",
      "\n",
      " [[0.75992452 0.66598298]\n",
      "  [0.43871565 0.60092555]]\n",
      "\n",
      " [[0.94944383 0.71419363]\n",
      "  [0.62476984 0.52417723]]]\n"
     ]
    }
   ],
   "source": [
    "print(np.random.rand(4,2,2))"
   ]
  },
  {
   "cell_type": "code",
   "execution_count": 8,
   "id": "dbcc96af",
   "metadata": {
    "scrolled": true
   },
   "outputs": [
    {
     "name": "stdout",
     "output_type": "stream",
     "text": [
      "[[6 7 4 0]\n",
      " [1 0 4 6]\n",
      " [0 8 8 6]\n",
      " [7 6 2 6]]\n"
     ]
    }
   ],
   "source": [
    "print(np.random.randint(0,10, size = [4,4]))"
   ]
  },
  {
   "cell_type": "code",
   "execution_count": 10,
   "id": "76f1f654",
   "metadata": {},
   "outputs": [
    {
     "name": "stdout",
     "output_type": "stream",
     "text": [
      "[[[2 7]\n",
      "  [7 6]]\n",
      "\n",
      " [[2 5]\n",
      "  [1 9]]\n",
      "\n",
      " [[1 0]\n",
      "  [9 0]]\n",
      "\n",
      " [[0 4]\n",
      "  [4 8]]]\n"
     ]
    }
   ],
   "source": [
    "print(np.random.randint(0,10, size = [4,2,2]))"
   ]
  },
  {
   "cell_type": "code",
   "execution_count": 12,
   "id": "961aa359",
   "metadata": {},
   "outputs": [
    {
     "name": "stdout",
     "output_type": "stream",
     "text": [
      "[[0.98829535 0.9871943 ]\n",
      " [0.09032736 0.38577036]]\n"
     ]
    }
   ],
   "source": [
    "print(np.random.random(size = [2,2]))"
   ]
  },
  {
   "cell_type": "code",
   "execution_count": 13,
   "id": "db010b8d",
   "metadata": {},
   "outputs": [
    {
     "name": "stdout",
     "output_type": "stream",
     "text": [
      "['e' 'o' 'i' 'a' 'o' 'u' 'i' 'i' 'o' 'u']\n"
     ]
    }
   ],
   "source": [
    "print(np.random.choice(['a', 'e', 'i', 'o', 'u'], size=10))"
   ]
  },
  {
   "cell_type": "code",
   "execution_count": 52,
   "id": "8540356d",
   "metadata": {},
   "outputs": [
    {
     "data": {
      "text/plain": [
       "'leape'"
      ]
     },
     "execution_count": 52,
     "metadata": {},
     "output_type": "execute_result"
    }
   ],
   "source": [
    "''.join(np.random.choice(['a', 'p', 'e', 'l', 'p'], size=5))"
   ]
  },
  {
   "cell_type": "code",
   "execution_count": 49,
   "id": "21867476",
   "metadata": {},
   "outputs": [
    {
     "data": {
      "text/plain": [
       "'7eea9226'"
      ]
     },
     "execution_count": 49,
     "metadata": {},
     "output_type": "execute_result"
    }
   ],
   "source": [
    "''.join(np.random.choice(['a', 'p', 'e', 'l', 'p',0,1,2,3,4,5,6,7,8,9], size=8))"
   ]
  },
  {
   "cell_type": "code",
   "execution_count": 71,
   "id": "e812b25c",
   "metadata": {},
   "outputs": [
    {
     "name": "stdout",
     "output_type": "stream",
     "text": [
      "['a' 'a' 'e']\n"
     ]
    }
   ],
   "source": [
    "print(np.random.choice(['a', 'e', 'i', 'p', 'u'], size=3, p=[0.3, 0.3, 0.1, 0.2,\n",
    "0.1]))"
   ]
  },
  {
   "cell_type": "code",
   "execution_count": 78,
   "id": "a7ea3b01",
   "metadata": {},
   "outputs": [
    {
     "data": {
      "text/plain": [
       "<matplotlib.image.AxesImage at 0x1a79539bdd0>"
      ]
     },
     "execution_count": 78,
     "metadata": {},
     "output_type": "execute_result"
    },
    {
     "data": {
      "image/png": "[encoded data removed]",
      "text/plain": [
       "<Figure size 480x480 with 1 Axes>"
      ]
     },
     "metadata": {},
     "output_type": "display_data"
    }
   ],
   "source": [
    "import matplotlib.pyplot as plt\n",
    "image = np.random.randint(0,255, size = [100,100])\n",
    "plt.matshow(image, cmap = 'gray')"
   ]
  },
  {
   "cell_type": "code",
   "execution_count": 88,
   "id": "52d479c9",
   "metadata": {},
   "outputs": [
    {
     "data": {
      "text/plain": [
       "<matplotlib.image.AxesImage at 0x1a79b5bfd90>"
      ]
     },
     "execution_count": 88,
     "metadata": {},
     "output_type": "execute_result"
    },
    {
     "data": {
      "image/png": "[encoded data removed]",
      "text/plain": [
       "<Figure size 1120x480 with 1 Axes>"
      ]
     },
     "metadata": {},
     "output_type": "display_data"
    }
   ],
   "source": [
    "import matplotlib.pyplot as plt\n",
    "image = np.random.randint(0,255, size = [30,70,3])\n",
    "plt.matshow(image, cmap = 'gray')"
   ]
  },
  {
   "cell_type": "code",
   "execution_count": 84,
   "id": "76d97a4b",
   "metadata": {},
   "outputs": [
    {
     "data": {
      "text/plain": [
       "<matplotlib.image.AxesImage at 0x1a79b142750>"
      ]
     },
     "execution_count": 84,
     "metadata": {},
     "output_type": "execute_result"
    },
    {
     "data": {
      "image/png": "[encoded data removed]",
      "text/plain": [
       "<Figure size 480x480 with 1 Axes>"
      ]
     },
     "metadata": {},
     "output_type": "display_data"
    }
   ],
   "source": [
    "import matplotlib.pyplot as plt\n",
    "image = np.random.randint(0,255, size = [10,10,3])\n",
    "plt.matshow(image)"
   ]
  },
  {
   "cell_type": "code",
   "execution_count": 91,
   "id": "d2e244de",
   "metadata": {},
   "outputs": [
    {
     "data": {
      "text/plain": [
       "<matplotlib.image.AxesImage at 0x1a79ae168d0>"
      ]
     },
     "execution_count": 91,
     "metadata": {},
     "output_type": "execute_result"
    },
    {
     "data": {
      "image/png": "[encoded data removed]",
      "text/plain": [
       "<Figure size 480x480 with 1 Axes>"
      ]
     },
     "metadata": {},
     "output_type": "display_data"
    }
   ],
   "source": [
    "import matplotlib.pyplot as plt\n",
    "import numpy as np\n",
    "image = np.array([[0,255,0,255,0,255,0,255],\n",
    "                  [0,255,0,255,0,255,0,255],\n",
    "                  [0,255,0,255,0,255,0,255],\n",
    "                  [0,255,0,255,0,255,0,255],\n",
    "                  [0,255,0,255,0,255,0,255],\n",
    "                  [0,255,0,255,0,255,0,255],\n",
    "                  [0,255,0,255,0,255,0,255],\n",
    "                  [0,255,0,255,0,255,0,255]])\n",
    "plt.matshow(image ,cmap = 'gray')"
   ]
  },
  {
   "cell_type": "code",
   "execution_count": 92,
   "id": "198ca27a",
   "metadata": {},
   "outputs": [
    {
     "data": {
      "text/plain": [
       "<matplotlib.image.AxesImage at 0x1a79b6a7a50>"
      ]
     },
     "execution_count": 92,
     "metadata": {},
     "output_type": "execute_result"
    },
    {
     "data": {
      "image/png": "[encoded data removed]",
      "text/plain": [
       "<Figure size 480x480 with 1 Axes>"
      ]
     },
     "metadata": {},
     "output_type": "display_data"
    }
   ],
   "source": [
    "import matplotlib.pyplot as plt\n",
    "import numpy as np\n",
    "image = np.array([[0,255,0,255,0,255,0,255],\n",
    "                  [255,0,255,0,255,0,255,0],\n",
    "                  [0,255,0,255,0,255,0,255],\n",
    "                  [255,0,255,0,255,0,255,0],\n",
    "                  [0,255,0,255,0,255,0,255],\n",
    "                  [255,0,255,0,255,0,255,0],\n",
    "                  [0,255,0,255,0,255,0,255],\n",
    "                  [255,0,255,0,255,0,255,0]])\n",
    "plt.matshow(image ,cmap = 'gray')"
   ]
  },
  {
   "cell_type": "code",
   "execution_count": 95,
   "id": "fd1b2025",
   "metadata": {},
   "outputs": [
    {
     "name": "stdout",
     "output_type": "stream",
     "text": [
      "Minimum value =  0\n",
      "Maximum value =  67\n",
      "Mean value =  18.166666666666668\n",
      "Median value =  7.5\n",
      "Satndard Deviation =  21.991791397903192\n"
     ]
    }
   ],
   "source": [
    "a = np.array([3,4,5,6,7,8,9,11,43,55,67,0])\n",
    "print(\"Minimum value = \" ,np.min(a))\n",
    "print(\"Maximum value = \" ,np.max(a))\n",
    "print(\"Mean value = \" ,np.mean(a))\n",
    "print(\"Median value = \" ,np.median(a))\n",
    "print(\"Satndard Deviation = \" ,np.std(a))"
   ]
  },
  {
   "cell_type": "code",
   "execution_count": 97,
   "id": "b77a0782",
   "metadata": {},
   "outputs": [
    {
     "name": "stdout",
     "output_type": "stream",
     "text": [
      "Index of minimum value =  11\n",
      "Index of maximum value =  10\n"
     ]
    }
   ],
   "source": [
    "print(\"Index of minimum value = \" ,np.argmin(a))\n",
    "print(\"Index of maximum value = \" ,np.argmax(a))\n"
   ]
  },
  {
   "cell_type": "code",
   "execution_count": 100,
   "id": "684b0006",
   "metadata": {},
   "outputs": [
    {
     "name": "stdout",
     "output_type": "stream",
     "text": [
      "-202.0\n"
     ]
    }
   ],
   "source": [
    "# calculating determinant:\n",
    "import scipy.linalg as slin  #scipy = scientific python, linalg = linear algebra\n",
    "a = np.array([[3,-5,8],\n",
    "             [2,7,9],\n",
    "             [4,7,9]])\n",
    "print(slin.det(a))"
   ]
  },
  {
   "cell_type": "code",
   "execution_count": 101,
   "id": "adc88655",
   "metadata": {},
   "outputs": [
    {
     "data": {
      "text/plain": [
       "7"
      ]
     },
     "execution_count": 101,
     "metadata": {},
     "output_type": "execute_result"
    }
   ],
   "source": [
    "#Trace : adding diagonal value\n",
    "import numpy as np\n",
    "\n",
    "a = np.array([[ 3, -5, 8],\n",
    "\n",
    "[-1, 2, 3],\n",
    "\n",
    "[-5, -6, 2]])\n",
    "\n",
    "np.trace(a)"
   ]
  },
  {
   "cell_type": "code",
   "execution_count": null,
   "id": "b398309e",
   "metadata": {},
   "outputs": [],
   "source": []
  }
 ],
 "metadata": {
  "kernelspec": {
   "display_name": "Python 3 (ipykernel)",
   "language": "python",
   "name": "python3"
  },
  "language_info": {
   "codemirror_mode": {
    "name": "ipython",
    "version": 3
   },
   "file_extension": ".py",
   "mimetype": "text/x-python",
   "name": "python",
   "nbconvert_exporter": "python",
   "pygments_lexer": "ipython3",
   "version": "3.11.5"
  }
 },
 "nbformat": 4,
 "nbformat_minor": 5
}
