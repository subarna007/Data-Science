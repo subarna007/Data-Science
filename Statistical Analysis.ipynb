{
 "cells": [
  {
   "cell_type": "code",
   "execution_count": null,
   "id": "6b00ec7d",
   "metadata": {},
   "outputs": [],
   "source": [
    "# Statistical Analysis"
   ]
  },
  {
   "cell_type": "code",
   "execution_count": null,
   "id": "51d09fdf",
   "metadata": {},
   "outputs": [],
   "source": [
    "# H0:μ1<=μ2  The average charges of smokers is less than or equal to nonsmokers\n",
    "\n",
    "# Ha:μ1>μ2 The average charges of smokers is greater than nonsmokers"
   ]
  },
  {
   "cell_type": "code",
   "execution_count": null,
   "id": "2b48eede",
   "metadata": {},
   "outputs": [],
   "source": [
    "# 1.Prove (or disprove) that the medical claims made by the people who smoke is greater than those who don't?\n",
    "# Step 1: Define null and alternative hypothesis\n",
    "# Step 2: Decide the significance level. If P values is less than alpha reject the null hypothesis.\n",
    "# α = 0.05\n",
    "\n",
    "# Step 3: Identify the test\n",
    "# Standard deviation of the population is not known ,will perform a T stat test . The > sign in alternate hypothesis indicate test is right tailed, that is all z values that would cause us to reject null hypothesis are in just one tail to the right of sampling distribution curve.\n",
    "\n",
    "# Step 4: Calculate the test-statistics and p-value"
   ]
  },
  {
   "cell_type": "code",
   "execution_count": 3,
   "id": "f520b97f",
   "metadata": {},
   "outputs": [],
   "source": [
    "import scipy.stats as stats #It has all the probability distributions available along with many statistical functions.\n",
    "import pandas as pd\n",
    "import numpy as np\n",
    "import matplotlib.pyplot as plt\n",
    "%matplotlib inline\n",
    "import seaborn as sns\n",
    "import warnings\n",
    "warnings.filterwarnings('ignore') # To supress warnings\n",
    "# sns.set(style=\"darkgrid\") # set the background for the graphs\n",
    "from scipy.stats import skew\n"
   ]
  },
  {
   "cell_type": "code",
   "execution_count": 4,
   "id": "d3f01423",
   "metadata": {},
   "outputs": [],
   "source": [
    "df = pd.read_csv('insurance.csv')\n",
    "insured=df.copy()"
   ]
  },
  {
   "cell_type": "code",
   "execution_count": 5,
   "id": "81144606",
   "metadata": {},
   "outputs": [
    {
     "data": {
      "text/html": [
       "<div>\n",
       "<style scoped>\n",
       "    .dataframe tbody tr th:only-of-type {\n",
       "        vertical-align: middle;\n",
       "    }\n",
       "\n",
       "    .dataframe tbody tr th {\n",
       "        vertical-align: top;\n",
       "    }\n",
       "\n",
       "    .dataframe thead th {\n",
       "        text-align: right;\n",
       "    }\n",
       "</style>\n",
       "<table border=\"1\" class=\"dataframe\">\n",
       "  <thead>\n",
       "    <tr style=\"text-align: right;\">\n",
       "      <th></th>\n",
       "      <th>age</th>\n",
       "      <th>sex</th>\n",
       "      <th>bmi</th>\n",
       "      <th>children</th>\n",
       "      <th>smoker</th>\n",
       "      <th>region</th>\n",
       "      <th>expenses</th>\n",
       "    </tr>\n",
       "  </thead>\n",
       "  <tbody>\n",
       "    <tr>\n",
       "      <th>0</th>\n",
       "      <td>19</td>\n",
       "      <td>female</td>\n",
       "      <td>27.9</td>\n",
       "      <td>0</td>\n",
       "      <td>yes</td>\n",
       "      <td>southwest</td>\n",
       "      <td>16884.92</td>\n",
       "    </tr>\n",
       "    <tr>\n",
       "      <th>11</th>\n",
       "      <td>62</td>\n",
       "      <td>female</td>\n",
       "      <td>26.3</td>\n",
       "      <td>0</td>\n",
       "      <td>yes</td>\n",
       "      <td>southeast</td>\n",
       "      <td>27808.73</td>\n",
       "    </tr>\n",
       "    <tr>\n",
       "      <th>14</th>\n",
       "      <td>27</td>\n",
       "      <td>male</td>\n",
       "      <td>42.1</td>\n",
       "      <td>0</td>\n",
       "      <td>yes</td>\n",
       "      <td>southeast</td>\n",
       "      <td>39611.76</td>\n",
       "    </tr>\n",
       "    <tr>\n",
       "      <th>19</th>\n",
       "      <td>30</td>\n",
       "      <td>male</td>\n",
       "      <td>35.3</td>\n",
       "      <td>0</td>\n",
       "      <td>yes</td>\n",
       "      <td>southwest</td>\n",
       "      <td>36837.47</td>\n",
       "    </tr>\n",
       "    <tr>\n",
       "      <th>23</th>\n",
       "      <td>34</td>\n",
       "      <td>female</td>\n",
       "      <td>31.9</td>\n",
       "      <td>1</td>\n",
       "      <td>yes</td>\n",
       "      <td>northeast</td>\n",
       "      <td>37701.88</td>\n",
       "    </tr>\n",
       "  </tbody>\n",
       "</table>\n",
       "</div>"
      ],
      "text/plain": [
       "    age     sex   bmi  children smoker     region  expenses\n",
       "0    19  female  27.9         0    yes  southwest  16884.92\n",
       "11   62  female  26.3         0    yes  southeast  27808.73\n",
       "14   27    male  42.1         0    yes  southeast  39611.76\n",
       "19   30    male  35.3         0    yes  southwest  36837.47\n",
       "23   34  female  31.9         1    yes  northeast  37701.88"
      ]
     },
     "execution_count": 5,
     "metadata": {},
     "output_type": "execute_result"
    }
   ],
   "source": [
    "smoker=insured.loc[insured.smoker==\"yes\"]\n",
    "smoker.head()"
   ]
  },
  {
   "cell_type": "code",
   "execution_count": 6,
   "id": "2a427ad8",
   "metadata": {},
   "outputs": [
    {
     "data": {
      "text/plain": [
       "age         274\n",
       "sex         274\n",
       "bmi         274\n",
       "children    274\n",
       "smoker      274\n",
       "region      274\n",
       "expenses    274\n",
       "dtype: int64"
      ]
     },
     "execution_count": 6,
     "metadata": {},
     "output_type": "execute_result"
    }
   ],
   "source": [
    "smoker.count()"
   ]
  },
  {
   "cell_type": "code",
   "execution_count": 7,
   "id": "e1febbe2",
   "metadata": {},
   "outputs": [
    {
     "data": {
      "text/html": [
       "<div>\n",
       "<style scoped>\n",
       "    .dataframe tbody tr th:only-of-type {\n",
       "        vertical-align: middle;\n",
       "    }\n",
       "\n",
       "    .dataframe tbody tr th {\n",
       "        vertical-align: top;\n",
       "    }\n",
       "\n",
       "    .dataframe thead th {\n",
       "        text-align: right;\n",
       "    }\n",
       "</style>\n",
       "<table border=\"1\" class=\"dataframe\">\n",
       "  <thead>\n",
       "    <tr style=\"text-align: right;\">\n",
       "      <th></th>\n",
       "      <th>age</th>\n",
       "      <th>sex</th>\n",
       "      <th>bmi</th>\n",
       "      <th>children</th>\n",
       "      <th>smoker</th>\n",
       "      <th>region</th>\n",
       "      <th>expenses</th>\n",
       "    </tr>\n",
       "  </thead>\n",
       "  <tbody>\n",
       "    <tr>\n",
       "      <th>1</th>\n",
       "      <td>18</td>\n",
       "      <td>male</td>\n",
       "      <td>33.8</td>\n",
       "      <td>1</td>\n",
       "      <td>no</td>\n",
       "      <td>southeast</td>\n",
       "      <td>1725.55</td>\n",
       "    </tr>\n",
       "    <tr>\n",
       "      <th>2</th>\n",
       "      <td>28</td>\n",
       "      <td>male</td>\n",
       "      <td>33.0</td>\n",
       "      <td>3</td>\n",
       "      <td>no</td>\n",
       "      <td>southeast</td>\n",
       "      <td>4449.46</td>\n",
       "    </tr>\n",
       "    <tr>\n",
       "      <th>3</th>\n",
       "      <td>33</td>\n",
       "      <td>male</td>\n",
       "      <td>22.7</td>\n",
       "      <td>0</td>\n",
       "      <td>no</td>\n",
       "      <td>northwest</td>\n",
       "      <td>21984.47</td>\n",
       "    </tr>\n",
       "    <tr>\n",
       "      <th>4</th>\n",
       "      <td>32</td>\n",
       "      <td>male</td>\n",
       "      <td>28.9</td>\n",
       "      <td>0</td>\n",
       "      <td>no</td>\n",
       "      <td>northwest</td>\n",
       "      <td>3866.86</td>\n",
       "    </tr>\n",
       "    <tr>\n",
       "      <th>5</th>\n",
       "      <td>31</td>\n",
       "      <td>female</td>\n",
       "      <td>25.7</td>\n",
       "      <td>0</td>\n",
       "      <td>no</td>\n",
       "      <td>southeast</td>\n",
       "      <td>3756.62</td>\n",
       "    </tr>\n",
       "  </tbody>\n",
       "</table>\n",
       "</div>"
      ],
      "text/plain": [
       "   age     sex   bmi  children smoker     region  expenses\n",
       "1   18    male  33.8         1     no  southeast   1725.55\n",
       "2   28    male  33.0         3     no  southeast   4449.46\n",
       "3   33    male  22.7         0     no  northwest  21984.47\n",
       "4   32    male  28.9         0     no  northwest   3866.86\n",
       "5   31  female  25.7         0     no  southeast   3756.62"
      ]
     },
     "execution_count": 7,
     "metadata": {},
     "output_type": "execute_result"
    }
   ],
   "source": [
    "nonsmoker=insured.loc[insured.smoker=='no']\n",
    "nonsmoker.head()"
   ]
  },
  {
   "cell_type": "code",
   "execution_count": 8,
   "id": "7a5fcfe2",
   "metadata": {},
   "outputs": [
    {
     "data": {
      "text/plain": [
       "age         1064\n",
       "sex         1064\n",
       "bmi         1064\n",
       "children    1064\n",
       "smoker      1064\n",
       "region      1064\n",
       "expenses    1064\n",
       "dtype: int64"
      ]
     },
     "execution_count": 8,
     "metadata": {},
     "output_type": "execute_result"
    }
   ],
   "source": [
    "nonsmoker.count()"
   ]
  },
  {
   "cell_type": "code",
   "execution_count": 11,
   "id": "46e1074c",
   "metadata": {},
   "outputs": [],
   "source": [
    "# Adjusting the size of the rows to be equal\n",
    "nonsmoker = nonsmoker[0:274]\n",
    "expenses_yes = smoker.expenses\n",
    "expenses_no = nonsmoker.expenses"
   ]
  },
  {
   "cell_type": "code",
   "execution_count": 12,
   "id": "76f33f15",
   "metadata": {},
   "outputs": [
    {
     "name": "stdout",
     "output_type": "stream",
     "text": [
      "Average Cost charged to Insurance for smoker is 32050.23197080292 and nonsmoker is 8460.786167883212 \n"
     ]
    }
   ],
   "source": [
    "print(f'Average Cost charged to Insurance for smoker is {expenses_yes.mean()} and nonsmoker is {expenses_no.mean()} ')"
   ]
  },
  {
   "cell_type": "code",
   "execution_count": 15,
   "id": "26853737",
   "metadata": {},
   "outputs": [
    {
     "data": {
      "text/plain": [
       "[Text(0.5, 1.0, 'Fig:1 Smoker vs expenses')]"
      ]
     },
     "execution_count": 15,
     "metadata": {},
     "output_type": "execute_result"
    },
    {
     "data": {
      "image/png": "[encoded data removed]",
      "text/plain": [
       "<Figure size 640x480 with 1 Axes>"
      ]
     },
     "metadata": {},
     "output_type": "display_data"
    }
   ],
   "source": [
    "#smoker vs expenses\n",
    "sns.boxplot(x=insured.expenses,y=insured.smoker,data=insured).set(title=\"Fig:1 Smoker vs expenses\")"
   ]
  },
  {
   "cell_type": "code",
   "execution_count": 16,
   "id": "70c70251",
   "metadata": {},
   "outputs": [
    {
     "data": {
      "text/plain": [
       "1       1725.55\n",
       "2       4449.46\n",
       "3      21984.47\n",
       "4       3866.86\n",
       "5       3756.62\n",
       "         ...   \n",
       "350    11830.61\n",
       "351     8932.08\n",
       "352     3554.20\n",
       "353    12404.88\n",
       "354    14133.04\n",
       "Name: expenses, Length: 274, dtype: float64"
      ]
     },
     "execution_count": 16,
     "metadata": {},
     "output_type": "execute_result"
    }
   ],
   "source": [
    "charges_no"
   ]
  },
  {
   "cell_type": "code",
   "execution_count": 17,
   "id": "4b9c5b51",
   "metadata": {},
   "outputs": [
    {
     "name": "stdout",
     "output_type": "stream",
     "text": [
      "Test statistic = 29.96693762930951 , Pvalue =2.11900162618799e-117 , OnetailPvalue = 1.059500813093995e-117\n"
     ]
    }
   ],
   "source": [
    "alpha = 0.05\n",
    "t_statistic_1, p_value_1 = stats.ttest_ind(charges_yes, charges_no)\n",
    "p_value_onetail=p_value_1/2\n",
    "\n",
    "print(\"Test statistic = {} , Pvalue ={} , OnetailPvalue = {}\".format(t_statistic_1,p_value_1, p_value_onetail ))\n"
   ]
  },
  {
   "cell_type": "code",
   "execution_count": 34,
   "id": "7179104c",
   "metadata": {},
   "outputs": [
    {
     "name": "stdout",
     "output_type": "stream",
     "text": [
      "Conclusion:Since P value 1.059500813093995e-117 is less than alpha 0.05 \n",
      "Reject Null Hypothesis\n"
     ]
    }
   ],
   "source": [
    "if p_value_1 < alpha :\n",
    "    print(f\"Conclusion:Since P value {p_value_onetail} is less than alpha {alpha} \" )\n",
    "    # print(\"Reject Null Hypothesis that Average charges for smokers are less than or equal to nonsmoker.\")\n",
    "    print(\"Reject Null Hypothesis\")\n",
    "\n",
    "else:\n",
    "    print(\"Conclusion:Since P value {} is greater than alpha {} \". format (p_value_onetail,alpha))\n",
    "    # print(\"Failed to Reject Null Hypothesis that Average charges for smokers are less than nonsmoker.\")\n",
    "    print(\"Failed to Reject Null Hypothesis\")"
   ]
  },
  {
   "cell_type": "code",
   "execution_count": null,
   "id": "3dda4d44",
   "metadata": {},
   "outputs": [],
   "source": [
    "# Step 5: Decide whethere to reject or failed to reject null hypothesis\n",
    "#  We reject the null hypothesis and can conclude that people who smoke have on an average larger medical claim compared to people who don't smoke.\n",
    "# Similar result can also been seen in Fig no.1 Smokers Vs Charges"
   ]
  },
  {
   "cell_type": "code",
   "execution_count": null,
   "id": "58527d7e",
   "metadata": {},
   "outputs": [],
   "source": [
    "# 2.Prove (or disprove) with statistical evidence that the BMI of females is different from that of males."
   ]
  },
  {
   "cell_type": "code",
   "execution_count": null,
   "id": "ef366806",
   "metadata": {},
   "outputs": [],
   "source": [
    "# Let  μ1μ2  and be the respective population means for BMI of males and BMI of females\n",
    "# Step 1: Define null and alternative hypothesis\n",
    "#  H0:μ1−μ2=0  There is no difference between the BMI of Male and BMI of female.\n",
    "#  Ha:μ1−μ2!=0  There is difference between the BMI of Male and BMI of female.\n",
    "# Step 2: Decide the significance level\n",
    "# α = 0.05\n",
    "\n",
    "# Step 3:Identify the test\n",
    "# Standard deviation of the population is not known ,will perform a T stat test.Not equal to sign in alternate hypothesis indicate its a two tailed test.\n",
    "# Step 4: Calculate the test-statistics and p-value\n",
    "\n"
   ]
  },
  {
   "cell_type": "code",
   "execution_count": 19,
   "id": "50b62a32",
   "metadata": {},
   "outputs": [],
   "source": [
    "#get all observation for male.\n",
    "df_male=insured.loc[insured.sex==\"male\"]\n",
    "#get all observation for females\n",
    "df_female=insured.loc[insured.sex==\"female\"]\n"
   ]
  },
  {
   "cell_type": "code",
   "execution_count": 20,
   "id": "8dfc7d1a",
   "metadata": {},
   "outputs": [],
   "source": [
    "#get bmi of male and female\n",
    "bmi_female=df_female.bmi\n",
    "bmi_male=df_male.bmi"
   ]
  },
  {
   "cell_type": "code",
   "execution_count": 21,
   "id": "b00d45a4",
   "metadata": {},
   "outputs": [
    {
     "data": {
      "text/plain": [
       "<Axes: xlabel='bmi', ylabel='Density'>"
      ]
     },
     "execution_count": 21,
     "metadata": {},
     "output_type": "execute_result"
    },
    {
     "data": {
      "image/png": "[encoded data removed]",
      "text/plain": [
       "<Figure size 640x480 with 1 Axes>"
      ]
     },
     "metadata": {},
     "output_type": "display_data"
    }
   ],
   "source": [
    "sns.distplot(bmi_male,color='green',hist=False)\n",
    "sns.distplot(bmi_female,color='red',hist=False)"
   ]
  },
  {
   "cell_type": "code",
   "execution_count": 22,
   "id": "a9b85a11",
   "metadata": {},
   "outputs": [
    {
     "data": {
      "text/plain": [
       "30.3797583081571"
      ]
     },
     "execution_count": 22,
     "metadata": {},
     "output_type": "execute_result"
    }
   ],
   "source": [
    "df_female.bmi.mean()"
   ]
  },
  {
   "cell_type": "code",
   "execution_count": 23,
   "id": "85112373",
   "metadata": {},
   "outputs": [
    {
     "data": {
      "text/plain": [
       "30.94526627218935"
      ]
     },
     "execution_count": 23,
     "metadata": {},
     "output_type": "execute_result"
    }
   ],
   "source": [
    "df_male.bmi.mean()"
   ]
  },
  {
   "cell_type": "code",
   "execution_count": 25,
   "id": "1ca16cb8",
   "metadata": {},
   "outputs": [
    {
     "name": "stdout",
     "output_type": "stream",
     "text": [
      "tstats =  1.6970846764986391 , pvalue =  0.08991356987176295\n"
     ]
    }
   ],
   "source": [
    "# get statistic and p value\n",
    "t_statistic_2, p_value_2 = stats.ttest_ind(bmi_male, bmi_female)\n",
    "print(\"tstats = \",t_statistic_2, \", pvalue = \", p_value_2)"
   ]
  },
  {
   "cell_type": "code",
   "execution_count": 35,
   "id": "45abb5da",
   "metadata": {},
   "outputs": [
    {
     "name": "stdout",
     "output_type": "stream",
     "text": [
      "Conclusion:Since P value 0.08991356987176295 is greater than alpha 0.05 \n"
     ]
    }
   ],
   "source": [
    "if p_value_2 <alpha :\n",
    "    print(\"Conclusion:Since P value {} is less than alpha {} \". format (p_value_2,alpha) )\n",
    "#     print(\"Reject Null Hypothesis  that there is no difference in bmi of men and bmi of female.\")\n",
    "\n",
    "else:\n",
    "    print(\"Conclusion:Since P value {} is greater than alpha {} \". format (p_value_2,alpha))\n",
    "#     print(\"Failed to Reject Null Hypothesis  that there is difference in bmi of men and bmi of female .\")\n"
   ]
  },
  {
   "cell_type": "code",
   "execution_count": null,
   "id": "6985c985",
   "metadata": {},
   "outputs": [],
   "source": [
    "# Step 5: Decide to reject or accept null hypothesis\n",
    "# We fail to reject the null hypothesis and can conclude that There is no difference between BMI of Female and BMI of Male."
   ]
  },
  {
   "cell_type": "code",
   "execution_count": null,
   "id": "aa5a528f",
   "metadata": {},
   "outputs": [],
   "source": [
    "# Recommendation\n",
    "# Based on EDA and statistical evidence it can be seen that customer who smoke or have higher BMI have more higher claims. We can encourage customers to quit smoking by providing them incentive points for talking to life coach, get help for improving lifestyle habits, Quit Tobacco- 28 day program. Give gift cards when customer accumulates specific number of points.\n",
    "# We can have Active wellness programs which can help up reduce claims related to BMI.\n",
    "# High BMI is primarily because of unhealthy life choices. We can provide customers with Diet plans and wellness health coaches which can help them to make right choices.\n",
    "# Provide discount coupons for Gym or fitness devices encouraging customers to exercise.\n"
   ]
  }
 ],
 "metadata": {
  "kernelspec": {
   "display_name": "Python 3 (ipykernel)",
   "language": "python",
   "name": "python3"
  },
  "language_info": {
   "codemirror_mode": {
    "name": "ipython",
    "version": 3
   },
   "file_extension": ".py",
   "mimetype": "text/x-python",
   "name": "python",
   "nbconvert_exporter": "python",
   "pygments_lexer": "ipython3",
   "version": "3.11.5"
  }
 },
 "nbformat": 4,
 "nbformat_minor": 5
}
